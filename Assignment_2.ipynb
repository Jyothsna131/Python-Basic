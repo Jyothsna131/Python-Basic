{
 "cells": [
  {
   "cell_type": "markdown",
   "id": "9ba0281e-b254-47d4-827a-84058993ee5f",
   "metadata": {},
   "source": [
    "### 1.What are the two values of the Boolean data type? How do you write them?\n",
    "- The two values of the Boolean data type are True and False.\n",
    "- They are written exactly as shown: True and False.\n"
   ]
  },
  {
   "cell_type": "markdown",
   "id": "7fbb1a49-6fa4-44f7-8d8f-1c7c298bb53a",
   "metadata": {},
   "source": [
    "### 2. What are the three different types of Boolean operators?\n",
    "- AND (and)\n",
    "- OR (or)\n",
    "- NOT (not)"
   ]
  },
  {
   "cell_type": "markdown",
   "id": "b43ebb1c-8acd-4596-81e3-d9a189be5861",
   "metadata": {},
   "source": [
    "\n",
    "### 3. Make a list of each Boolean operator's truth tables (i.e. every possible combination of Boolean values for the operator and what it evaluate ).\n",
    "#### AND (and):\n",
    "True and True = True <br/>\n",
    "True and False = False <br/>\n",
    "False and True = False <br/>\n",
    "False and False = False <br/>\n",
    "#### OR (or):\n",
    "True or True = True <br/>\n",
    "True or False = True <br/>\n",
    "False or True = True <br/>\n",
    "False or False = False<br/>\n",
    "#### NOT (not):\n",
    "not True = False <br/>\n",
    "not False = True <br/>\n",
    "\n",
    "    \n"
   ]
  },
  {
   "cell_type": "markdown",
   "id": "68b1d1bf-32dd-4f09-8d18-2fdea221eead",
   "metadata": {},
   "source": [
    "### 4. What are the values of the following expressions?\n",
    "#### (5 > 4) and (3 == 5)\n",
    "#### not (5 > 4)\n",
    "#### (5 > 4) or (3 == 5)\n",
    "#### not ((5 > 4) or (3 == 5))\n",
    "#### (True and True) and (True == False)\n",
    "#### (not False) or (not True)\n",
    "\n",
    "#### Ans:\n",
    "- (5 > 4) and (3 == 5) evaluates to False\n",
    "- not (5 > 4) evaluates to False\n",
    "- (5 > 4) or (3 == 5) evaluates to True\n",
    "- not ((5 > 4) or (3 == 5)) evaluates to False\n",
    "- (True and True) and (True == False) evaluates to False\n",
    "- (not False) or (not True) evaluates to True"
   ]
  },
  {
   "cell_type": "markdown",
   "id": "57fa8dcb-ec99-4255-a3c8-0de2e7123617",
   "metadata": {},
   "source": [
    "### 5. What are the six comparison operators?\n",
    "The six comparison operators are:\n",
    "- '==' (equal to)\n",
    "- '!=' (not equal to)\n",
    "- '>' (greater than)\n",
    "- '<' (less than)\n",
    "- '>=' (greater than or equal to)\n",
    "- '<=' (less than or equal to)\n"
   ]
  },
  {
   "cell_type": "markdown",
   "id": "82065e69-9734-40c1-83b7-6698ffe0899a",
   "metadata": {},
   "source": [
    "### 6. How do you tell the difference between the equal to and assignment operators?Describe a condition and when you would use one.\n",
    "\n",
    "- The equal to operator (==) is used to compare two values.\n",
    "- The assignment operator (=) is used to assign a value to a variable.\n",
    "- Example: if x == 5: checks if the variable x is equal to 5. Whereas x = 5 assigns the value 5 to the variable x"
   ]
  },
  {
   "cell_type": "markdown",
   "id": "bba476cb-4349-4301-8213-c96726d9dc4c",
   "metadata": {},
   "source": [
    "### 7. Identify the three blocks in this code:<br/>\n",
    "spam = 0 <br/>\n",
    "if spam == 10:<br/>\n",
    "print('eggs')<br/>\n",
    "if spam>5:<br/>\n",
    "print('bacon')<br/>\n",
    "else:<br/>\n",
    "print('ham')<br/>\n",
    "print('spam')<br/>\n",
    "print('spam')\n"
   ]
  },
  {
   "cell_type": "code",
   "execution_count": 7,
   "id": "1bb3101d-bbfd-43e5-8412-b32502338dc2",
   "metadata": {},
   "outputs": [
    {
     "name": "stdout",
     "output_type": "stream",
     "text": [
      "ham\n",
      "spam\n",
      "spam\n"
     ]
    }
   ],
   "source": [
    "spam=0\n",
    "if spam==10:\n",
    "    print('eggs')\n",
    "if spam>5:\n",
    "    print('bacon')\n",
    "else:\n",
    "    print('ham')\n",
    "    print('spam')\n",
    "    print('spam')"
   ]
  },
  {
   "cell_type": "markdown",
   "id": "ec759f84-dd11-4055-bb1b-42ec10e5a039",
   "metadata": {},
   "source": [
    "### 8. Write code that prints Hello if 1 is stored in spam, prints Howdy if 2 is stored in spam, and prints Greetings! if anything else is stored in spam.\n",
    "\n"
   ]
  },
  {
   "cell_type": "code",
   "execution_count": 3,
   "id": "f4e4a449-2f0a-4c00-aaf3-96802e9cddca",
   "metadata": {},
   "outputs": [
    {
     "name": "stdin",
     "output_type": "stream",
     "text": [
      "Enter integer value for spam 1\n"
     ]
    },
    {
     "name": "stdout",
     "output_type": "stream",
     "text": [
      "Hello\n"
     ]
    }
   ],
   "source": [
    "spam=int(input(\"Enter integer value for spam\"))\n",
    "if spam==1:\n",
    "    print(\"Hello\")\n",
    "elif spam==2:\n",
    "    print(\"Howdy\")\n",
    "else:\n",
    "    print(\"Greetings!\")"
   ]
  },
  {
   "cell_type": "markdown",
   "id": "b3abf70a-4922-432e-85ee-edf707ace018",
   "metadata": {},
   "source": [
    "### 9. If your programme is stuck in an endless loop, what keys you’ll press?\n",
    "To stop an endless loop in a Python program, you can press Ctrl + C on our keyboard. This sends a KeyboardInterrupt signal to the program, causing it to terminate."
   ]
  },
  {
   "cell_type": "markdown",
   "id": "758b9c6e-555d-492a-9283-058b24e11f16",
   "metadata": {},
   "source": [
    "### 10. How can you tell the difference between break and continue?\n",
    "- break is used to exit the current loop prematurely, skipping any remaining code inside the loop.\n",
    "- continue is used to skip the current iteration of a loop and continue with the next iteration."
   ]
  },
  {
   "cell_type": "markdown",
   "id": "de2b196f-0186-4f55-ba28-4516ae416e2d",
   "metadata": {},
   "source": [
    "### 11. In a for loop, what is the difference between range(10), range(0, 10), and range(0, 10, 1)? \n",
    "- range(10) generates numbers from 0 to 9 (default start is 0, default step is 1).\n",
    "- range(0, 10) also generates numbers from 0 to 9 explicitly stating start (0) and stop (10-1).\n",
    "- range(0, 10, 1) is the same as range(0, 10) where the step is explicitly stated (1 is default)"
   ]
  },
  {
   "cell_type": "markdown",
   "id": "ba60aae1-dd1f-4daa-b0b4-78ed9a103ba1",
   "metadata": {},
   "source": [
    "### 12. Write a short program that prints the numbers 1 to 10 using a for loop. Then write an equivalent program that prints the numbers 1 to 10 using a while loop."
   ]
  },
  {
   "cell_type": "code",
   "execution_count": 2,
   "id": "e4f7b0b3-6dd9-4548-9282-93bbf7beda79",
   "metadata": {},
   "outputs": [
    {
     "name": "stdout",
     "output_type": "stream",
     "text": [
      "1\n",
      "2\n",
      "3\n",
      "4\n",
      "5\n",
      "6\n",
      "7\n",
      "8\n",
      "9\n",
      "1\n",
      "2\n",
      "3\n",
      "4\n",
      "5\n",
      "6\n",
      "7\n",
      "8\n",
      "9\n",
      "10\n"
     ]
    }
   ],
   "source": [
    "for i in range(1,10):\n",
    "    print(i)\n",
    "\n",
    "i=1\n",
    "while(i<=10):\n",
    "    print(i)\n",
    "    i+=1"
   ]
  },
  {
   "cell_type": "markdown",
   "id": "9138f9a6-d2cf-4746-944e-86065b253aa3",
   "metadata": {},
   "source": [
    "### 13. If you had a function named bacon() inside a module named spam, how would you call it after importing spam?\n",
    "#### Ans: spam.bacon()"
   ]
  }
 ],
 "metadata": {
  "kernelspec": {
   "display_name": "Python 3 (ipykernel)",
   "language": "python",
   "name": "python3"
  },
  "language_info": {
   "codemirror_mode": {
    "name": "ipython",
    "version": 3
   },
   "file_extension": ".py",
   "mimetype": "text/x-python",
   "name": "python",
   "nbconvert_exporter": "python",
   "pygments_lexer": "ipython3",
   "version": "3.11.7"
  }
 },
 "nbformat": 4,
 "nbformat_minor": 5
}
