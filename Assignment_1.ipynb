{
 "cells": [
  {
   "cell_type": "markdown",
   "id": "7609b726-2218-4f47-aa1f-23962449c518",
   "metadata": {},
   "source": [
    "### 1. In the below elements which of them are values or an expression? eg:- values can be integer or string and expressions will be mathematical operators.\n",
    "\n",
    "1. *                 - Expression\n",
    "2. 'hello'           - Value\n",
    "3. -87.8             - Value\n",
    "4. -                 - Expression\n",
    "5. /                 - Expression\n",
    "6. +                 - Expression\n",
    "7. 6                 - Value"
   ]
  },
  {
   "cell_type": "markdown",
   "id": "211f2a03-8c59-4577-8291-ffc47082d72e",
   "metadata": {},
   "source": [
    "\n",
    "### 2. What is the difference between string and variable?\n",
    "\n",
    "#### String: \n",
    "A string is a sequence of characters enclosed in quotes (either single or double). It is a specific data type used to represent text. \n",
    "Eg: 'Hello World'\n",
    "\n",
    "#### Variable:\n",
    "A variable is a name assigned to a value which can be of any data type, including a string, integer, float etc. Variables act as placeholders or storage locations for  data.\n",
    "For example, message = 'hello' where message is a variable holding the string value 'hello'."
   ]
  },
  {
   "cell_type": "markdown",
   "id": "8c300177-50cd-448e-a057-03957f873222",
   "metadata": {},
   "source": [
    "### 3. Describe three different data types.\n",
    "#### Integer: \n",
    "A whole number without a fractional part. Example: 5, -10.\n",
    "#### Floating-point number: \n",
    "A number that has a decimal point. Example: 3.14, -87.8.\n",
    "#### String: \n",
    "A sequence of characters enclosed in quotes. Example: 'hello', \"world\""
   ]
  },
  {
   "cell_type": "markdown",
   "id": "c2355c9a-20a9-4116-a663-f4aea1ae7854",
   "metadata": {},
   "source": [
    "### 4. What is an expression made up of? What do all expressions do?\n",
    "- An expression is made up of values, variables, and operators that are combined to produce another value. For example, 2 + 3 or a * b.\n",
    "- All expressions evaluate to a single value. They perform calculations or operations on the data and return a result.\n"
   ]
  },
  {
   "cell_type": "markdown",
   "id": "d5ed9ae6-0dd1-4e0b-a7e9-dd48e0264c36",
   "metadata": {},
   "source": [
    "### 5. This assignment statements, like spam = 10. What is the difference between an expression and a statement?\n",
    "#### Expression: \n",
    "An expression evaluates to a value. For example, 2 + 3 or spam + 'eggs'\n",
    "#### Statement: \n",
    "A statement performs an action and does not necessarily evaluate to a value. For example, assignment statements like spam = 10 assign a value to a variable.\n"
   ]
  },
  {
   "cell_type": "markdown",
   "id": "0f63d3c9-a973-456c-87a1-6cb2878c4d4c",
   "metadata": {},
   "source": [
    "#### 6. After running the following code, what does the variable bacon contain? bacon = 22; bacon + 1\n",
    "\n",
    "The variable bacon still contains the value 22 because the expression bacon + 1 is evaluated but not assigned back to bacon. To update bacon, you would need bacon = bacon + 1.\n",
    "\n"
   ]
  },
  {
   "cell_type": "markdown",
   "id": "53959bb1-26a0-4c92-971c-69f9fcb4ed0e",
   "metadata": {},
   "source": [
    "### 7. What should the values of the following two terms be?'spam'+'spamspam'; 'spam'* 3\n",
    "spamspamspam\n",
    "\n"
   ]
  },
  {
   "cell_type": "markdown",
   "id": "b52dad9f-9bdd-4752-8147-1835e1411863",
   "metadata": {},
   "source": [
    "### 8. Why is eggs a valid variable name while 100 is invalid?\n",
    "- eggs is a valid variable name because it follows the rules for variable names: it starts with a letter and can contain letters and numbers.\n",
    "- 100 is invalid as a variable name because it starts with a number. Variable names must start with a letter or an underscore.\n",
    "\n"
   ]
  },
  {
   "cell_type": "markdown",
   "id": "11e2e756-f405-4cc1-80a5-ed644502f0af",
   "metadata": {},
   "source": [
    "### 9. What three functions can be used to get the integer, floating-point number, or string version of a value?\n",
    "- int() : Converts a value to an integer.\n",
    "- float() : Converts a value to a floating-point number.\n",
    "- str() : Converts a value to a string.\n"
   ]
  },
  {
   "cell_type": "markdown",
   "id": "edc14cd8-b80d-4a2c-8b85-37b7a366338c",
   "metadata": {},
   "source": [
    "### 10. Why does this expression cause an error? How can you fix it? 'I have eaten'+ 99 + 'burritos.'\n",
    "- It is trying to concatenate a string with a non-string type.\n",
    "- To fix it, convert the non-string type to a string: 'I have eateb' + str(3) + ' apples'"
   ]
  }
 ],
 "metadata": {
  "kernelspec": {
   "display_name": "Python 3 (ipykernel)",
   "language": "python",
   "name": "python3"
  },
  "language_info": {
   "codemirror_mode": {
    "name": "ipython",
    "version": 3
   },
   "file_extension": ".py",
   "mimetype": "text/x-python",
   "name": "python",
   "nbconvert_exporter": "python",
   "pygments_lexer": "ipython3",
   "version": "3.11.7"
  }
 },
 "nbformat": 4,
 "nbformat_minor": 5
}
